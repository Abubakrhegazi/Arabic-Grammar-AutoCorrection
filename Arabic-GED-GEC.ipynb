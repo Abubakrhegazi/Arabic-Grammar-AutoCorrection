{
  "nbformat": 4,
  "nbformat_minor": 0,
  "metadata": {
    "colab": {
      "provenance": [],
      "authorship_tag": "ABX9TyPhZLQxFDDlhLkZ2mWXIgst",
      "include_colab_link": true
    },
    "kernelspec": {
      "name": "python3",
      "display_name": "Python 3"
    },
    "language_info": {
      "name": "python"
    }
  },
  "cells": [
    {
      "cell_type": "markdown",
      "metadata": {
        "id": "view-in-github",
        "colab_type": "text"
      },
      "source": [
        "<a href=\"https://colab.research.google.com/github/Abubakrhegazi/Arabic-Grammar-AutoCorrection/blob/main/Arabic-GED-GEC.ipynb\" target=\"_parent\"><img src=\"https://colab.research.google.com/assets/colab-badge.svg\" alt=\"Open In Colab\"/></a>"
      ]
    },
    {
      "cell_type": "code",
      "execution_count": 3,
      "metadata": {
        "colab": {
          "base_uri": "https://localhost:8080/",
          "height": 228
        },
        "id": "s3DMo31eCqsP",
        "outputId": "190bbe3c-ec6c-4fda-f51f-4b8665828b72"
      },
      "outputs": [
        {
          "output_type": "stream",
          "name": "stdout",
          "text": [
            "Drive already mounted at /content/drive; to attempt to forcibly remount, call drive.mount(\"/content/drive\", force_remount=True).\n"
          ]
        },
        {
          "output_type": "error",
          "ename": "FileNotFoundError",
          "evalue": "[Errno 2] No such file or directory: '/content/drive/My Drive/grammar/QALB-Train2014.m2'",
          "traceback": [
            "\u001b[0;31m---------------------------------------------------------------------------\u001b[0m",
            "\u001b[0;31mFileNotFoundError\u001b[0m                         Traceback (most recent call last)",
            "\u001b[0;32m<ipython-input-3-48394f8cf6d2>\u001b[0m in \u001b[0;36m<cell line: 0>\u001b[0;34m()\u001b[0m\n\u001b[1;32m      6\u001b[0m \u001b[0mfile_path\u001b[0m \u001b[0;34m=\u001b[0m \u001b[0;34m'/content/drive/My Drive/grammar/QALB-Train2014.m2'\u001b[0m\u001b[0;34m\u001b[0m\u001b[0;34m\u001b[0m\u001b[0m\n\u001b[1;32m      7\u001b[0m \u001b[0;34m\u001b[0m\u001b[0m\n\u001b[0;32m----> 8\u001b[0;31m \u001b[0;32mwith\u001b[0m \u001b[0mopen\u001b[0m\u001b[0;34m(\u001b[0m\u001b[0mfile_path\u001b[0m\u001b[0;34m,\u001b[0m \u001b[0;34m'r'\u001b[0m\u001b[0;34m,\u001b[0m \u001b[0mencoding\u001b[0m\u001b[0;34m=\u001b[0m\u001b[0;34m'utf-8'\u001b[0m\u001b[0;34m)\u001b[0m \u001b[0;32mas\u001b[0m \u001b[0mf\u001b[0m\u001b[0;34m:\u001b[0m\u001b[0;34m\u001b[0m\u001b[0;34m\u001b[0m\u001b[0m\n\u001b[0m\u001b[1;32m      9\u001b[0m     \u001b[0mlines\u001b[0m \u001b[0;34m=\u001b[0m \u001b[0mf\u001b[0m\u001b[0;34m.\u001b[0m\u001b[0mreadlines\u001b[0m\u001b[0;34m(\u001b[0m\u001b[0;34m)\u001b[0m\u001b[0;34m\u001b[0m\u001b[0;34m\u001b[0m\u001b[0m\n\u001b[1;32m     10\u001b[0m \u001b[0;34m\u001b[0m\u001b[0m\n",
            "\u001b[0;31mFileNotFoundError\u001b[0m: [Errno 2] No such file or directory: '/content/drive/My Drive/grammar/QALB-Train2014.m2'"
          ]
        }
      ],
      "source": [
        "# prompt: import from drive folder named grammar and read an m2 file\n",
        "\n",
        "from google.colab import drive\n",
        "drive.mount('/content/drive')\n",
        "\n",
        "# file_path = '/content/drive/My Drive/grammar/QALB-Train2014.m2'\n",
        "\n"
      ]
    },
    {
      "cell_type": "code",
      "source": [
        "#functions dictionary\n",
        "def smart_open(fname, mode = 'r'):\n",
        "    if fname.endswith('.gz'):\n",
        "        import gzip\n",
        "        # Using max compression (9) by default seems to be slow.\n",
        "        # Let's try using the fastest.\n",
        "        return gzip.open(fname, mode, 1)\n",
        "    else:\n",
        "        return open(fname, mode)\n",
        "\n",
        "def load_annotation(gold_file):\n",
        "    source_sentences = []\n",
        "    gold_edits = []\n",
        "    fgold = smart_open(gold_file, 'r')\n",
        "    puffer = fgold.read()\n",
        "    fgold.close()\n",
        "    #puffer = puffer.decode('utf8')\n",
        "    for item in paragraphs(puffer.splitlines(True)):\n",
        "        item = item.splitlines(False)\n",
        "        sentence = [line[2:].strip() for line in item if line.startswith('S ')]\n",
        "        assert sentence != []\n",
        "        annotations = {}\n",
        "        for line in item[1:]:\n",
        "            if line.startswith('I ') or line.startswith('S '):\n",
        "                continue\n",
        "            assert line.startswith('A ')\n",
        "            line = line[2:]\n",
        "            fields = line.split('|||')\n",
        "            #print(fields)\n",
        "            start_offset = int(fields[0].split()[0])\n",
        "            end_offset = int(fields[0].split()[1])\n",
        "            etype = fields[1]\n",
        "            if etype == 'noop':\n",
        "                start_offset = -1\n",
        "                end_offset = -1\n",
        "            corrections =  [c.strip() if c != '-NONE-' else '' for c in fields[2].split('||')]\n",
        "            # NOTE: start and end are *token* offsets\n",
        "            original = ' '.join(' '.join(sentence).split()[start_offset:end_offset])\n",
        "            if len(fields) > 4:\n",
        "              annotator = int(fields[5])\n",
        "            if annotator not in annotations.keys():\n",
        "                annotations[annotator] = []\n",
        "            annotations[annotator].append((start_offset, end_offset, original, corrections))\n",
        "        tok_offset = 0\n",
        "        for this_sentence in sentence:\n",
        "            tok_offset += len(this_sentence.split())\n",
        "            source_sentences.append(this_sentence)\n",
        "            this_edits = {}\n",
        "            for annotator, annotation in annotations.items():\n",
        "                this_edits[annotator] = [edit for edit in annotation if edit[0] <= tok_offset and edit[1] <= tok_offset and edit[0] >= 0 and edit[1] >= 0]\n",
        "            if len(this_edits) == 0:\n",
        "                this_edits[0] = []\n",
        "            gold_edits.append(this_edits)\n",
        "    return (source_sentences, gold_edits)\n",
        "\n",
        "def paragraphs(lines, is_separator=lambda x : x == '\\n', joiner=''.join):\n",
        "    paragraph = []\n",
        "    for line in lines:\n",
        "        if is_separator(line):\n",
        "            if paragraph:\n",
        "                yield joiner(paragraph)\n",
        "                paragraph = []\n",
        "        else:\n",
        "            paragraph.append(line)\n",
        "    if paragraph:\n",
        "        yield joiner(paragraph)"
      ],
      "metadata": {
        "id": "DlKDgVdPKznh"
      },
      "execution_count": 12,
      "outputs": []
    },
    {
      "cell_type": "code",
      "metadata": {
        "id": "aFaSDz1tZ1W3",
        "colab": {
          "base_uri": "https://localhost:8080/",
          "height": 321
        },
        "outputId": "551f496e-3208-4244-8294-10f23fc2b552"
      },
      "source": [
        "m2_list_sentence=[]\n",
        "m2_list_operation=[]\n",
        "\n",
        "m2_list_sentence.append(load_annotation('/content/drive/MyDrive/Grammar/QALB-Train2014.m2')[0])\n",
        "m2_list_operation.append(load_annotation('/content/drive/MyDrive/Grammar/QALB-TEst2014.m2')[1])\n"
      ],
      "execution_count": 13,
      "outputs": [
        {
          "output_type": "error",
          "ename": "FileNotFoundError",
          "evalue": "[Errno 2] No such file or directory: '/content/drive/MyDrive/Grammar/QALB-TEst2014.m2'",
          "traceback": [
            "\u001b[0;31m---------------------------------------------------------------------------\u001b[0m",
            "\u001b[0;31mFileNotFoundError\u001b[0m                         Traceback (most recent call last)",
            "\u001b[0;32m<ipython-input-13-27a9d227f0a9>\u001b[0m in \u001b[0;36m<cell line: 0>\u001b[0;34m()\u001b[0m\n\u001b[1;32m      3\u001b[0m \u001b[0;34m\u001b[0m\u001b[0m\n\u001b[1;32m      4\u001b[0m \u001b[0mm2_list_sentence\u001b[0m\u001b[0;34m.\u001b[0m\u001b[0mappend\u001b[0m\u001b[0;34m(\u001b[0m\u001b[0mload_annotation\u001b[0m\u001b[0;34m(\u001b[0m\u001b[0;34m'/content/drive/MyDrive/Grammar/QALB-Train2014.m2'\u001b[0m\u001b[0;34m)\u001b[0m\u001b[0;34m[\u001b[0m\u001b[0;36m0\u001b[0m\u001b[0;34m]\u001b[0m\u001b[0;34m)\u001b[0m\u001b[0;34m\u001b[0m\u001b[0;34m\u001b[0m\u001b[0m\n\u001b[0;32m----> 5\u001b[0;31m \u001b[0mm2_list_operation\u001b[0m\u001b[0;34m.\u001b[0m\u001b[0mappend\u001b[0m\u001b[0;34m(\u001b[0m\u001b[0mload_annotation\u001b[0m\u001b[0;34m(\u001b[0m\u001b[0;34m'/content/drive/MyDrive/Grammar/QALB-TEst2014.m2'\u001b[0m\u001b[0;34m)\u001b[0m\u001b[0;34m[\u001b[0m\u001b[0;36m1\u001b[0m\u001b[0;34m]\u001b[0m\u001b[0;34m)\u001b[0m\u001b[0;34m\u001b[0m\u001b[0;34m\u001b[0m\u001b[0m\n\u001b[0m",
            "\u001b[0;32m<ipython-input-12-3f1c76f09ff5>\u001b[0m in \u001b[0;36mload_annotation\u001b[0;34m(gold_file)\u001b[0m\n\u001b[1;32m     12\u001b[0m     \u001b[0msource_sentences\u001b[0m \u001b[0;34m=\u001b[0m \u001b[0;34m[\u001b[0m\u001b[0;34m]\u001b[0m\u001b[0;34m\u001b[0m\u001b[0;34m\u001b[0m\u001b[0m\n\u001b[1;32m     13\u001b[0m     \u001b[0mgold_edits\u001b[0m \u001b[0;34m=\u001b[0m \u001b[0;34m[\u001b[0m\u001b[0;34m]\u001b[0m\u001b[0;34m\u001b[0m\u001b[0;34m\u001b[0m\u001b[0m\n\u001b[0;32m---> 14\u001b[0;31m     \u001b[0mfgold\u001b[0m \u001b[0;34m=\u001b[0m \u001b[0msmart_open\u001b[0m\u001b[0;34m(\u001b[0m\u001b[0mgold_file\u001b[0m\u001b[0;34m,\u001b[0m \u001b[0;34m'r'\u001b[0m\u001b[0;34m)\u001b[0m\u001b[0;34m\u001b[0m\u001b[0;34m\u001b[0m\u001b[0m\n\u001b[0m\u001b[1;32m     15\u001b[0m     \u001b[0mpuffer\u001b[0m \u001b[0;34m=\u001b[0m \u001b[0mfgold\u001b[0m\u001b[0;34m.\u001b[0m\u001b[0mread\u001b[0m\u001b[0;34m(\u001b[0m\u001b[0;34m)\u001b[0m\u001b[0;34m\u001b[0m\u001b[0;34m\u001b[0m\u001b[0m\n\u001b[1;32m     16\u001b[0m     \u001b[0mfgold\u001b[0m\u001b[0;34m.\u001b[0m\u001b[0mclose\u001b[0m\u001b[0;34m(\u001b[0m\u001b[0;34m)\u001b[0m\u001b[0;34m\u001b[0m\u001b[0;34m\u001b[0m\u001b[0m\n",
            "\u001b[0;32m<ipython-input-12-3f1c76f09ff5>\u001b[0m in \u001b[0;36msmart_open\u001b[0;34m(fname, mode)\u001b[0m\n\u001b[1;32m      7\u001b[0m         \u001b[0;32mreturn\u001b[0m \u001b[0mgzip\u001b[0m\u001b[0;34m.\u001b[0m\u001b[0mopen\u001b[0m\u001b[0;34m(\u001b[0m\u001b[0mfname\u001b[0m\u001b[0;34m,\u001b[0m \u001b[0mmode\u001b[0m\u001b[0;34m,\u001b[0m \u001b[0;36m1\u001b[0m\u001b[0;34m)\u001b[0m\u001b[0;34m\u001b[0m\u001b[0;34m\u001b[0m\u001b[0m\n\u001b[1;32m      8\u001b[0m     \u001b[0;32melse\u001b[0m\u001b[0;34m:\u001b[0m\u001b[0;34m\u001b[0m\u001b[0;34m\u001b[0m\u001b[0m\n\u001b[0;32m----> 9\u001b[0;31m         \u001b[0;32mreturn\u001b[0m \u001b[0mopen\u001b[0m\u001b[0;34m(\u001b[0m\u001b[0mfname\u001b[0m\u001b[0;34m,\u001b[0m \u001b[0mmode\u001b[0m\u001b[0;34m)\u001b[0m\u001b[0;34m\u001b[0m\u001b[0;34m\u001b[0m\u001b[0m\n\u001b[0m\u001b[1;32m     10\u001b[0m \u001b[0;34m\u001b[0m\u001b[0m\n\u001b[1;32m     11\u001b[0m \u001b[0;32mdef\u001b[0m \u001b[0mload_annotation\u001b[0m\u001b[0;34m(\u001b[0m\u001b[0mgold_file\u001b[0m\u001b[0;34m)\u001b[0m\u001b[0;34m:\u001b[0m\u001b[0;34m\u001b[0m\u001b[0;34m\u001b[0m\u001b[0m\n",
            "\u001b[0;31mFileNotFoundError\u001b[0m: [Errno 2] No such file or directory: '/content/drive/MyDrive/Grammar/QALB-TEst2014.m2'"
          ]
        }
      ]
    },
    {
      "cell_type": "code",
      "source": [
        "sentences = []\n",
        "corrections = []\n",
        "current_sentence = \"\"\n",
        "current_edits = []\n",
        "\n",
        "for line in lines:\n",
        "    line = line.strip()\n",
        "    if line.startswith(\"S \"):\n",
        "        if current_sentence:\n",
        "            sentences.append(current_sentence)\n",
        "            corrections.append(current_edits)\n",
        "        current_sentence = line[2:]\n",
        "        current_edits = []\n",
        "    elif line.startswith(\"A \"):\n",
        "        current_edits.append(line[2:])\n",
        "# Add last entry\n",
        "if current_sentence:\n",
        "    sentences.append(current_sentence)\n",
        "    corrections.append(current_edits)\n"
      ],
      "metadata": {
        "id": "UYDc2UJlIpK8"
      },
      "execution_count": null,
      "outputs": []
    }
  ]
}