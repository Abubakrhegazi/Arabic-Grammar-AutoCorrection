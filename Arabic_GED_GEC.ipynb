{
  "nbformat": 4,
  "nbformat_minor": 0,
  "metadata": {
    "colab": {
      "provenance": [],
      "authorship_tag": "ABX9TyO3vXJqF5Fxpmb6NdlSc99D",
      "include_colab_link": true
    },
    "kernelspec": {
      "name": "python3",
      "display_name": "Python 3"
    },
    "language_info": {
      "name": "python"
    }
  },
  "cells": [
    {
      "cell_type": "markdown",
      "metadata": {
        "id": "view-in-github",
        "colab_type": "text"
      },
      "source": [
        "<a href=\"https://colab.research.google.com/github/Abubakrhegazi/Arabic-Grammar-AutoCorrection/blob/main/Arabic_GED_GEC.ipynb\" target=\"_parent\"><img src=\"https://colab.research.google.com/assets/colab-badge.svg\" alt=\"Open In Colab\"/></a>"
      ]
    },
    {
      "cell_type": "code",
      "execution_count": 11,
      "metadata": {
        "colab": {
          "base_uri": "https://localhost:8080/"
        },
        "id": "s3DMo31eCqsP",
        "outputId": "2dc5c484-75e6-4021-ebb9-db4a16e7ec98"
      },
      "outputs": [
        {
          "output_type": "stream",
          "name": "stdout",
          "text": [
            "Drive already mounted at /content/drive; to attempt to forcibly remount, call drive.mount(\"/content/drive\", force_remount=True).\n"
          ]
        }
      ],
      "source": [
        "# prompt: import from drive folder named grammar and read an m2 file\n",
        "\n",
        "from google.colab import drive\n",
        "drive.mount('/content/drive')\n",
        "\n",
        "# file_path = '/content/drive/My Drive/grammar/QALB-Train2014.m2'\n",
        "\n"
      ]
    },
    {
      "cell_type": "code",
      "source": [
        "#functions dictionary\n",
        "def smart_open(fname, mode = 'r'):\n",
        "    if fname.endswith('.gz'):\n",
        "        import gzip\n",
        "        # Using max compression (9) by default seems to be slow.\n",
        "        # Let's try using the fastest.\n",
        "        return gzip.open(fname, mode, 1)\n",
        "    else:\n",
        "        return open(fname, mode)\n",
        "\n",
        "import sys\n",
        "from getopt import getopt\n",
        "\n",
        "def load_annotation(gold_file):\n",
        "    source_sentences = []\n",
        "    gold_edits = []\n",
        "    fgold = smart_open(gold_file, 'r')\n",
        "    puffer = fgold.read()\n",
        "    fgold.close()\n",
        "    #puffer = puffer.decode('utf8')\n",
        "    for item in paragraphs(puffer.splitlines(True)):\n",
        "        item = item.splitlines(False)\n",
        "        sentence = [line[2:].strip() for line in item if line.startswith('S ')]\n",
        "        assert sentence != []\n",
        "        annotations = {}\n",
        "        for line in item[1:]:\n",
        "            if line.startswith('I ') or line.startswith('S '):\n",
        "                continue\n",
        "            assert line.startswith('A ')\n",
        "            line = line[2:]\n",
        "            fields = line.split('|||')\n",
        "            #print(fields)\n",
        "            start_offset = int(fields[0].split()[0])\n",
        "            end_offset = int(fields[0].split()[1])\n",
        "            etype = fields[1]\n",
        "            if etype == 'noop':\n",
        "                start_offset = -1\n",
        "                end_offset = -1\n",
        "            corrections =  [c.strip() if c != '-NONE-' else '' for c in fields[2].split('||')]\n",
        "            # NOTE: start and end are *token* offsets\n",
        "            original = ' '.join(' '.join(sentence).split()[start_offset:end_offset])\n",
        "            if len(fields) > 4:\n",
        "              annotator = int(fields[5])\n",
        "            if annotator not in annotations.keys():\n",
        "                annotations[annotator] = []\n",
        "            annotations[annotator].append((start_offset, end_offset, original, corrections))\n",
        "        tok_offset = 0\n",
        "        for this_sentence in sentence:\n",
        "            tok_offset += len(this_sentence.split())\n",
        "            source_sentences.append(this_sentence)\n",
        "            this_edits = {}\n",
        "            for annotator, annotation in annotations.items():\n",
        "                this_edits[annotator] = [edit for edit in annotation if edit[0] <= tok_offset and edit[1] <= tok_offset and edit[0] >= 0 and edit[1] >= 0]\n",
        "            if len(this_edits) == 0:\n",
        "                this_edits[0] = []\n",
        "            gold_edits.append(this_edits)\n",
        "    return (source_sentences, gold_edits)\n",
        "def paragraphs(lines, is_separator=lambda x : x == '\\n', joiner=''.join):\n",
        "    paragraph = []\n",
        "    for line in lines:\n",
        "        if is_separator(line):\n",
        "            if paragraph:\n",
        "                yield joiner(paragraph)\n",
        "                paragraph = []\n",
        "        else:\n",
        "            paragraph.append(line)\n",
        "    if paragraph:\n",
        "        yield joiner(paragraph)"
      ],
      "metadata": {
        "id": "DlKDgVdPKznh"
      },
      "execution_count": 12,
      "outputs": []
    },
    {
      "cell_type": "code",
      "metadata": {
        "id": "aFaSDz1tZ1W3"
      },
      "source": [
        "m2_list_sentence=[]\n",
        "m2_list_operation=[]\n",
        "\n",
        "m2_list_sentence.append(load_annotation('/content/drive/MyDrive/Grammar/QALB-Train2014.m2')[0])\n",
        "m2_list_operation.append(load_annotation('/content/drive/MyDrive/Grammar/QALB-Test2014.m2')[1])\n"
      ],
      "execution_count": 20,
      "outputs": []
    },
    {
      "cell_type": "code",
      "source": [
        "# For extracting actual corrections\n",
        "\n",
        "def extract(operation):\n",
        "  input=[]\n",
        "  correct=[]\n",
        "\n",
        "  for i in range(len(operation)):\n",
        "          if (operation[i][0]!=operation[i][1]):\n",
        "              input.append(operation[i][2])\n",
        "              correct.append(operation[i][3][0])\n",
        "  return (input , correct)"
      ],
      "metadata": {
        "id": "TUl3OmpZqwDr"
      },
      "execution_count": 21,
      "outputs": []
    },
    {
      "cell_type": "code",
      "source": [
        "def make_tokens(list):\n",
        "  tokens =[]\n",
        "  for s in list:\n",
        "      for i in s:\n",
        "          tokens.append(i.split(' '))\n",
        "  return tokens\n"
      ],
      "metadata": {
        "id": "qaCASl_5r_WJ"
      },
      "execution_count": 22,
      "outputs": []
    },
    {
      "cell_type": "code",
      "source": [
        "tokens =[]\n",
        "i=0\n",
        "for i in m2_list_sentence:\n",
        "    tokens = make_tokens(m2_list_sentence)\n",
        "# print(tokens[0])\n",
        "# len(tokens)"
      ],
      "metadata": {
        "id": "ms7x_YJusGTZ"
      },
      "execution_count": 23,
      "outputs": []
    },
    {
      "cell_type": "code",
      "source": [
        "print(\"len(tokens):\", len(tokens))\n",
        "print(\"len(m2_list_operation[0]):\", len(m2_list_operation[0]))\n"
      ],
      "metadata": {
        "colab": {
          "base_uri": "https://localhost:8080/"
        },
        "id": "zn4ABZvSsvuk",
        "outputId": "5c57dbf7-453a-404b-dbb6-efc86f5aa38b"
      },
      "execution_count": 24,
      "outputs": [
        {
          "output_type": "stream",
          "name": "stdout",
          "text": [
            "len(tokens): 19411\n",
            "len(m2_list_operation[0]): 968\n"
          ]
        }
      ]
    },
    {
      "cell_type": "code",
      "source": [
        "list_correction = []\n",
        "list_input = []\n",
        "\n",
        "for i in range(len(m2_list_operation[0])):  # ✅ Use the shorter list\n",
        "    edits = m2_list_operation[0][i][0]\n",
        "    input_, correction = extract(edits)\n",
        "    list_input.append(input_)\n",
        "    list_correction.append(correction)\n"
      ],
      "metadata": {
        "collapsed": true,
        "id": "Ajji1ouPs0Ps"
      },
      "execution_count": 25,
      "outputs": []
    },
    {
      "cell_type": "code",
      "source": [
        "for i in range(5):  # test like df.head f pandas\n",
        "    print(f\"Input {i}:\", list_input[i])\n",
        "    print(f\"Correction {i}:\", list_correction[i])\n",
        "    print()\n"
      ],
      "metadata": {
        "colab": {
          "base_uri": "https://localhost:8080/"
        },
        "id": "gKhUaDwxq4KP",
        "outputId": "d5eef287-615c-4edf-d128-77f8b2c809f9"
      },
      "execution_count": 26,
      "outputs": [
        {
          "output_type": "stream",
          "name": "stdout",
          "text": [
            "Input 0: ['لا زال', 'الشبيحه', 'ان', 'ارواح', 'اقل', 'كلفه', 'اذا', 'المعادله', 'المهينه', 'ان', 'هبه', 'قويه', 'واحده', 'وياخذو', 'العصابه', 'عنوه', '،', 'اننا', 'اكثر', 'اربعين', 'عام']\n",
            "Correction 0: ['لازال', 'الشبيحة', 'أن', 'أرواح', 'أقل', 'كلفة', 'إذا', 'المعادلة', 'المهينة', 'أن', 'هبة', 'قوية', 'واحدة', 'ويأخذوا', 'العصابة', 'عنوة', '.', 'إننا', 'أكثر', 'أربعين', 'عاما']\n",
            "\n",
            "Input 1: ['امريكان', 'و يا', 'اذنابهم', 'ان', 'امن', 'تستطيعوا', 'لان', 'و سترون', 'الاسد', 'الاكتاف', 'تهو', 'الامويين']\n",
            "Correction 1: ['أمريكان', 'ويا', 'أذنابهم', 'أن', 'أمن', 'تستطيعون', 'لأن', 'وسترون', 'الأسد', 'الأكتاف', 'تهز', 'الأمويين']\n",
            "\n",
            "Input 2: ['إعتقاد']\n",
            "Correction 2: ['اعتقاد']\n",
            "\n",
            "Input 3: ['راينا', 'اماكن', 'و للتقطيع', 'بالتاكيد', 'او', 'او', 'ابيا', 'واسفاه', 'و ساند', 'اذيالها']\n",
            "Correction 3: ['رأينا', 'أماكن', 'وللتقطيع', 'بالتأكيد', 'أو', 'أو', 'أبيا', 'وأسفاه', 'وساند', 'أذيالها']\n",
            "\n",
            "Input 4: ['الى', 'مشاركه', 'انت', 'الاحرار', 'لايخافون', 'لانهم', 'الانفس', 'البريئه', 'اما', 'الارانب', 'لانه', 'الى', 'الاحرار', 'جر', 'ليره', 'بتعرفوا']\n",
            "Correction 4: ['إلى', 'مشاركة', 'أنت', 'الأحرار', 'لا يخافون', 'لأنهم', 'الأنفس', 'البريئة', 'أما', 'الأرانب', 'لأنه', 'إلى', 'الأحرار', 'جرا', 'ليرة', 'تعرفه']\n",
            "\n"
          ]
        }
      ]
    }
  ]
}